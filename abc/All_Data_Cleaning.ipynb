{
 "cells": [
  {
   "cell_type": "code",
   "execution_count": 1,
   "id": "19d7e06c",
   "metadata": {},
   "outputs": [],
   "source": [
    "import pandas as pd"
   ]
  },
  {
   "cell_type": "markdown",
   "id": "95996d05",
   "metadata": {},
   "source": [
    "## BBC News Dataset"
   ]
  },
  {
   "cell_type": "code",
   "execution_count": 3,
   "id": "0388ee75",
   "metadata": {},
   "outputs": [],
   "source": [
    "bbc=pd.read_csv(\"C:/DEAN/Datasets/bbc.csv\")\n"
   ]
  },
  {
   "cell_type": "code",
   "execution_count": 4,
   "id": "b7e73d5b",
   "metadata": {},
   "outputs": [
    {
     "data": {
      "text/html": [
       "<div>\n",
       "<style scoped>\n",
       "    .dataframe tbody tr th:only-of-type {\n",
       "        vertical-align: middle;\n",
       "    }\n",
       "\n",
       "    .dataframe tbody tr th {\n",
       "        vertical-align: top;\n",
       "    }\n",
       "\n",
       "    .dataframe thead th {\n",
       "        text-align: right;\n",
       "    }\n",
       "</style>\n",
       "<table border=\"1\" class=\"dataframe\">\n",
       "  <thead>\n",
       "    <tr style=\"text-align: right;\">\n",
       "      <th></th>\n",
       "      <th>tags</th>\n",
       "      <th>title</th>\n",
       "      <th>news_post_date</th>\n",
       "      <th>raw_content</th>\n",
       "      <th>content</th>\n",
       "      <th>url</th>\n",
       "      <th>author</th>\n",
       "      <th>language</th>\n",
       "      <th>_id</th>\n",
       "      <th>region</th>\n",
       "      <th>short_description</th>\n",
       "      <th>category</th>\n",
       "      <th>crawled_at</th>\n",
       "    </tr>\n",
       "  </thead>\n",
       "  <tbody>\n",
       "    <tr>\n",
       "      <th>0</th>\n",
       "      <td>NaN</td>\n",
       "      <td>Why quitting heroin substitute methadone is 'v...</td>\n",
       "      <td>2010-08-06T02:46:40.000Z</td>\n",
       "      <td>&lt;div data-component=\"text-block\" class=\"ssrcss...</td>\n",
       "      <td>The heroin substitute methadone can be used as...</td>\n",
       "      <td>https://www.bbc.co.uk/news/health-10869329</td>\n",
       "      <td>By Linda Pressly</td>\n",
       "      <td>en_GB</td>\n",
       "      <td>45cbcb62-840b-5a1d-9b59-d7f57f3ab7f6</td>\n",
       "      <td>Health</td>\n",
       "      <td>Heroin substitute methadone is used to wean ad...</td>\n",
       "      <td>BBC News</td>\n",
       "      <td>2021-05-02 17:19:39</td>\n",
       "    </tr>\n",
       "    <tr>\n",
       "      <th>1</th>\n",
       "      <td>North Korea, Kim Jong-un, Kim Jong-il, Kim Jon...</td>\n",
       "      <td>North Korea leader's eldest son 'opposes dynasty'</td>\n",
       "      <td>2010-10-12T08:54:42.000Z</td>\n",
       "      <td>&lt;div data-component=\"text-block\" class=\"ssrcss...</td>\n",
       "      <td>The eldest son of North Korean leader Kim Jong...</td>\n",
       "      <td>https://www.bbc.co.uk/news/world-asia-pacific-...</td>\n",
       "      <td>NaN</td>\n",
       "      <td>en_GB</td>\n",
       "      <td>771b9c0d-88e1-589f-bf56-8ef80ce161a2</td>\n",
       "      <td>Asia-Pacific</td>\n",
       "      <td>The eldest son of North Korean leader Kim Jong...</td>\n",
       "      <td>BBC News</td>\n",
       "      <td>2021-05-02 17:19:39</td>\n",
       "    </tr>\n",
       "    <tr>\n",
       "      <th>2</th>\n",
       "      <td>NaN</td>\n",
       "      <td>Paintings by gangster Reggie Kray go on sale i...</td>\n",
       "      <td>2010-10-27T17:35:24.000Z</td>\n",
       "      <td>&lt;div data-component=\"text-block\" class=\"ssrcss...</td>\n",
       "      <td>Seven oil paintings created by notorious gangs...</td>\n",
       "      <td>https://www.bbc.co.uk/news/uk-england-lincolns...</td>\n",
       "      <td>NaN</td>\n",
       "      <td>en_GB</td>\n",
       "      <td>768e3fc6-c406-5570-8328-2e6fb75abd1b</td>\n",
       "      <td>Lincolnshire</td>\n",
       "      <td>A series of oil painting produced by gangster ...</td>\n",
       "      <td>BBC News</td>\n",
       "      <td>2021-05-02 17:19:39</td>\n",
       "    </tr>\n",
       "    <tr>\n",
       "      <th>3</th>\n",
       "      <td>NaN</td>\n",
       "      <td>Bracklinn Falls Bridge hauled over gorge by hand</td>\n",
       "      <td>2010-10-08T13:21:50.000Z</td>\n",
       "      <td>&lt;div data-component=\"text-block\" class=\"ssrcss...</td>\n",
       "      <td>A 20-tonne bridge is being hauled into place b...</td>\n",
       "      <td>https://www.bbc.co.uk/news/uk-scotland-tayside...</td>\n",
       "      <td>NaN</td>\n",
       "      <td>en_GB</td>\n",
       "      <td>a6e26396-70ec-501c-8ebc-1d600ddf6aab</td>\n",
       "      <td>Tayside and Central Scotland</td>\n",
       "      <td>A 20-tonne bridge is having to be hauled into ...</td>\n",
       "      <td>BBC News</td>\n",
       "      <td>2021-05-02 17:19:39</td>\n",
       "    </tr>\n",
       "    <tr>\n",
       "      <th>4</th>\n",
       "      <td>NaN</td>\n",
       "      <td>Manchester soldier's last words become song</td>\n",
       "      <td>2010-09-22T17:35:34.000Z</td>\n",
       "      <td>&lt;div data-component=\"text-block\" class=\"ssrcss...</td>\n",
       "      <td>The final words written by a guardsman killed ...</td>\n",
       "      <td>https://www.bbc.co.uk/news/uk-england-manchest...</td>\n",
       "      <td>NaN</td>\n",
       "      <td>en_GB</td>\n",
       "      <td>e8a150a5-b6e0-5315-9c04-fc639dee196f</td>\n",
       "      <td>Manchester</td>\n",
       "      <td>The final words written by a guardsman from Ma...</td>\n",
       "      <td>BBC News</td>\n",
       "      <td>2021-05-02 17:19:39</td>\n",
       "    </tr>\n",
       "  </tbody>\n",
       "</table>\n",
       "</div>"
      ],
      "text/plain": [
       "                                                tags  \\\n",
       "0                                                NaN   \n",
       "1  North Korea, Kim Jong-un, Kim Jong-il, Kim Jon...   \n",
       "2                                                NaN   \n",
       "3                                                NaN   \n",
       "4                                                NaN   \n",
       "\n",
       "                                               title  \\\n",
       "0  Why quitting heroin substitute methadone is 'v...   \n",
       "1  North Korea leader's eldest son 'opposes dynasty'   \n",
       "2  Paintings by gangster Reggie Kray go on sale i...   \n",
       "3   Bracklinn Falls Bridge hauled over gorge by hand   \n",
       "4        Manchester soldier's last words become song   \n",
       "\n",
       "             news_post_date  \\\n",
       "0  2010-08-06T02:46:40.000Z   \n",
       "1  2010-10-12T08:54:42.000Z   \n",
       "2  2010-10-27T17:35:24.000Z   \n",
       "3  2010-10-08T13:21:50.000Z   \n",
       "4  2010-09-22T17:35:34.000Z   \n",
       "\n",
       "                                         raw_content  \\\n",
       "0  <div data-component=\"text-block\" class=\"ssrcss...   \n",
       "1  <div data-component=\"text-block\" class=\"ssrcss...   \n",
       "2  <div data-component=\"text-block\" class=\"ssrcss...   \n",
       "3  <div data-component=\"text-block\" class=\"ssrcss...   \n",
       "4  <div data-component=\"text-block\" class=\"ssrcss...   \n",
       "\n",
       "                                             content  \\\n",
       "0  The heroin substitute methadone can be used as...   \n",
       "1  The eldest son of North Korean leader Kim Jong...   \n",
       "2  Seven oil paintings created by notorious gangs...   \n",
       "3  A 20-tonne bridge is being hauled into place b...   \n",
       "4  The final words written by a guardsman killed ...   \n",
       "\n",
       "                                                 url            author  \\\n",
       "0         https://www.bbc.co.uk/news/health-10869329  By Linda Pressly   \n",
       "1  https://www.bbc.co.uk/news/world-asia-pacific-...               NaN   \n",
       "2  https://www.bbc.co.uk/news/uk-england-lincolns...               NaN   \n",
       "3  https://www.bbc.co.uk/news/uk-scotland-tayside...               NaN   \n",
       "4  https://www.bbc.co.uk/news/uk-england-manchest...               NaN   \n",
       "\n",
       "  language                                   _id  \\\n",
       "0    en_GB  45cbcb62-840b-5a1d-9b59-d7f57f3ab7f6   \n",
       "1    en_GB  771b9c0d-88e1-589f-bf56-8ef80ce161a2   \n",
       "2    en_GB  768e3fc6-c406-5570-8328-2e6fb75abd1b   \n",
       "3    en_GB  a6e26396-70ec-501c-8ebc-1d600ddf6aab   \n",
       "4    en_GB  e8a150a5-b6e0-5315-9c04-fc639dee196f   \n",
       "\n",
       "                         region  \\\n",
       "0                        Health   \n",
       "1                  Asia-Pacific   \n",
       "2                  Lincolnshire   \n",
       "3  Tayside and Central Scotland   \n",
       "4                    Manchester   \n",
       "\n",
       "                                   short_description  category  \\\n",
       "0  Heroin substitute methadone is used to wean ad...  BBC News   \n",
       "1  The eldest son of North Korean leader Kim Jong...  BBC News   \n",
       "2  A series of oil painting produced by gangster ...  BBC News   \n",
       "3  A 20-tonne bridge is having to be hauled into ...  BBC News   \n",
       "4  The final words written by a guardsman from Ma...  BBC News   \n",
       "\n",
       "            crawled_at  \n",
       "0  2021-05-02 17:19:39  \n",
       "1  2021-05-02 17:19:39  \n",
       "2  2021-05-02 17:19:39  \n",
       "3  2021-05-02 17:19:39  \n",
       "4  2021-05-02 17:19:39  "
      ]
     },
     "execution_count": 4,
     "metadata": {},
     "output_type": "execute_result"
    }
   ],
   "source": [
    "bbc.head()\n"
   ]
  },
  {
   "cell_type": "code",
   "execution_count": 4,
   "id": "4683c374",
   "metadata": {},
   "outputs": [
    {
     "data": {
      "text/html": [
       "<div>\n",
       "<style scoped>\n",
       "    .dataframe tbody tr th:only-of-type {\n",
       "        vertical-align: middle;\n",
       "    }\n",
       "\n",
       "    .dataframe tbody tr th {\n",
       "        vertical-align: top;\n",
       "    }\n",
       "\n",
       "    .dataframe thead th {\n",
       "        text-align: right;\n",
       "    }\n",
       "</style>\n",
       "<table border=\"1\" class=\"dataframe\">\n",
       "  <thead>\n",
       "    <tr style=\"text-align: right;\">\n",
       "      <th></th>\n",
       "      <th>headline</th>\n",
       "      <th>url</th>\n",
       "      <th>slug</th>\n",
       "      <th>short_description</th>\n",
       "      <th>tags</th>\n",
       "      <th>source</th>\n",
       "      <th>source_title</th>\n",
       "      <th>article_section</th>\n",
       "      <th>author</th>\n",
       "      <th>primary_image</th>\n",
       "      <th>language</th>\n",
       "      <th>description</th>\n",
       "      <th>raw_description</th>\n",
       "      <th>created_at</th>\n",
       "      <th>modified_at</th>\n",
       "      <th>published_at</th>\n",
       "      <th>uniq_id</th>\n",
       "      <th>scraped_at</th>\n",
       "    </tr>\n",
       "  </thead>\n",
       "  <tbody>\n",
       "    <tr>\n",
       "      <th>count</th>\n",
       "      <td>5443</td>\n",
       "      <td>5443</td>\n",
       "      <td>5443</td>\n",
       "      <td>4168</td>\n",
       "      <td>5443</td>\n",
       "      <td>5443</td>\n",
       "      <td>5443</td>\n",
       "      <td>5443</td>\n",
       "      <td>5332</td>\n",
       "      <td>5443</td>\n",
       "      <td>5443</td>\n",
       "      <td>5285</td>\n",
       "      <td>5294</td>\n",
       "      <td>5443</td>\n",
       "      <td>5443</td>\n",
       "      <td>5443</td>\n",
       "      <td>5443</td>\n",
       "      <td>5443</td>\n",
       "    </tr>\n",
       "    <tr>\n",
       "      <th>unique</th>\n",
       "      <td>5428</td>\n",
       "      <td>5443</td>\n",
       "      <td>5427</td>\n",
       "      <td>4156</td>\n",
       "      <td>5267</td>\n",
       "      <td>1</td>\n",
       "      <td>1</td>\n",
       "      <td>63</td>\n",
       "      <td>2298</td>\n",
       "      <td>2891</td>\n",
       "      <td>1</td>\n",
       "      <td>5269</td>\n",
       "      <td>5281</td>\n",
       "      <td>1514</td>\n",
       "      <td>1582</td>\n",
       "      <td>1514</td>\n",
       "      <td>5443</td>\n",
       "      <td>1</td>\n",
       "    </tr>\n",
       "    <tr>\n",
       "      <th>top</th>\n",
       "      <td>The Funniest Tweets From Parents This Week</td>\n",
       "      <td>https://www.huffpost.com/entry/why-this-former...</td>\n",
       "      <td>the-funniest-tweets-from-parents-this-week</td>\n",
       "      <td>Buy real stuff from the HuffPost store: All pu...</td>\n",
       "      <td>Business</td>\n",
       "      <td>www.huffpost.com</td>\n",
       "      <td>HuffPost</td>\n",
       "      <td>Politics</td>\n",
       "      <td>Reuters</td>\n",
       "      <td>https://img.huffingtonpost.com/asset/default-e...</td>\n",
       "      <td>en-US</td>\n",
       "      <td></td>\n",
       "      <td>&lt;div class=\"primary-cli cli cli-text\"&gt;&lt;p&gt;&lt;br/&gt;...</td>\n",
       "      <td>10/27/15</td>\n",
       "      <td>12/07/17</td>\n",
       "      <td>10/27/15</td>\n",
       "      <td>1502cb87-868f-56e2-9f83-61b149ba43fe</td>\n",
       "      <td>06/05/22</td>\n",
       "    </tr>\n",
       "    <tr>\n",
       "      <th>freq</th>\n",
       "      <td>7</td>\n",
       "      <td>1</td>\n",
       "      <td>7</td>\n",
       "      <td>4</td>\n",
       "      <td>15</td>\n",
       "      <td>5443</td>\n",
       "      <td>5443</td>\n",
       "      <td>1024</td>\n",
       "      <td>143</td>\n",
       "      <td>2462</td>\n",
       "      <td>5443</td>\n",
       "      <td>5</td>\n",
       "      <td>5</td>\n",
       "      <td>18</td>\n",
       "      <td>1049</td>\n",
       "      <td>18</td>\n",
       "      <td>1</td>\n",
       "      <td>5443</td>\n",
       "    </tr>\n",
       "  </tbody>\n",
       "</table>\n",
       "</div>"
      ],
      "text/plain": [
       "                                          headline  \\\n",
       "count                                         5443   \n",
       "unique                                        5428   \n",
       "top     The Funniest Tweets From Parents This Week   \n",
       "freq                                             7   \n",
       "\n",
       "                                                      url  \\\n",
       "count                                                5443   \n",
       "unique                                               5443   \n",
       "top     https://www.huffpost.com/entry/why-this-former...   \n",
       "freq                                                    1   \n",
       "\n",
       "                                              slug  \\\n",
       "count                                         5443   \n",
       "unique                                        5427   \n",
       "top     the-funniest-tweets-from-parents-this-week   \n",
       "freq                                             7   \n",
       "\n",
       "                                        short_description      tags  \\\n",
       "count                                                4168      5443   \n",
       "unique                                               4156      5267   \n",
       "top     Buy real stuff from the HuffPost store: All pu...  Business   \n",
       "freq                                                    4        15   \n",
       "\n",
       "                  source source_title article_section   author  \\\n",
       "count               5443         5443            5443     5332   \n",
       "unique                 1            1              63     2298   \n",
       "top     www.huffpost.com     HuffPost        Politics  Reuters   \n",
       "freq                5443         5443            1024      143   \n",
       "\n",
       "                                            primary_image language  \\\n",
       "count                                                5443     5443   \n",
       "unique                                               2891        1   \n",
       "top     https://img.huffingtonpost.com/asset/default-e...    en-US   \n",
       "freq                                                 2462     5443   \n",
       "\n",
       "       description                                    raw_description  \\\n",
       "count         5285                                               5294   \n",
       "unique        5269                                               5281   \n",
       "top                 <div class=\"primary-cli cli cli-text\"><p><br/>...   \n",
       "freq             5                                                  5   \n",
       "\n",
       "       created_at modified_at published_at  \\\n",
       "count        5443        5443         5443   \n",
       "unique       1514        1582         1514   \n",
       "top      10/27/15    12/07/17     10/27/15   \n",
       "freq           18        1049           18   \n",
       "\n",
       "                                     uniq_id scraped_at  \n",
       "count                                   5443       5443  \n",
       "unique                                  5443          1  \n",
       "top     1502cb87-868f-56e2-9f83-61b149ba43fe   06/05/22  \n",
       "freq                                       1       5443  "
      ]
     },
     "execution_count": 4,
     "metadata": {},
     "output_type": "execute_result"
    }
   ],
   "source": [
    "bbc.describe()"
   ]
  },
  {
   "cell_type": "code",
   "execution_count": 13,
   "id": "4544ebe8",
   "metadata": {},
   "outputs": [
    {
     "data": {
      "text/plain": [
       "Index(['tags', 'title', 'news_post_date', 'raw_content', 'content', 'url',\n",
       "       'author', 'language', '_id', 'region', 'short_description', 'category',\n",
       "       'crawled_at'],\n",
       "      dtype='object')"
      ]
     },
     "execution_count": 13,
     "metadata": {},
     "output_type": "execute_result"
    }
   ],
   "source": [
    "bbc.columns"
   ]
  },
  {
   "cell_type": "code",
   "execution_count": 14,
   "id": "2c5c61fb",
   "metadata": {},
   "outputs": [
    {
     "data": {
      "text/plain": [
       "0"
      ]
     },
     "execution_count": 14,
     "metadata": {},
     "output_type": "execute_result"
    }
   ],
   "source": [
    "# checking null values for each column\n",
    "bbc.columns.isna().sum()"
   ]
  },
  {
   "cell_type": "code",
   "execution_count": 16,
   "id": "fedda99b",
   "metadata": {},
   "outputs": [
    {
     "name": "stdout",
     "output_type": "stream",
     "text": [
      "title = 0\n",
      "url = 0\n"
     ]
    }
   ],
   "source": [
    "# checking blank values for each column\n",
    "print('title = %d' % (bbc['title'].values == '').sum())\n",
    "print('url = %d' % (bbc['url'].values == '').sum())\n"
   ]
  },
  {
   "cell_type": "code",
   "execution_count": 17,
   "id": "fc87e7ce",
   "metadata": {},
   "outputs": [
    {
     "name": "stdout",
     "output_type": "stream",
     "text": [
      "title = 0\n",
      "url = 0\n"
     ]
    }
   ],
   "source": [
    "# checking tap values for each column\n",
    "print('title = %d' % (bbc['title'].values == ' ').sum())\n",
    "print('url = %d' % (bbc['url'].values == ' ').sum())"
   ]
  },
  {
   "cell_type": "code",
   "execution_count": 18,
   "id": "cd824f0a",
   "metadata": {},
   "outputs": [
    {
     "name": "stdout",
     "output_type": "stream",
     "text": [
      "title = 0\n",
      "url = 0\n"
     ]
    }
   ],
   "source": [
    "# checking 'na' values for each column\n",
    "print('title = %d' % (bbc['title'].values == 'na').sum())\n",
    "print('url = %d' % (bbc['url'].values == 'na').sum())\n"
   ]
  },
  {
   "cell_type": "code",
   "execution_count": 19,
   "id": "1f147565",
   "metadata": {},
   "outputs": [
    {
     "name": "stdout",
     "output_type": "stream",
     "text": [
      "url = 0\n"
     ]
    }
   ],
   "source": [
    "# checking duplicate values for url column\n",
    "print('url = %d' % (bbc['url'].duplicated()).sum())"
   ]
  },
  {
   "cell_type": "code",
   "execution_count": null,
   "id": "7a632779",
   "metadata": {},
   "outputs": [],
   "source": [
    "#checking the invalidity of the URLs\n",
    "from urllib.request import urlopen, URLError, HTTPError\n",
    "\n",
    "def validate_web_url(dataframe):\n",
    "    url_status = []\n",
    "    for url in dataframe.url:\n",
    "        try:\n",
    "            urlopen(url)\n",
    "            url_status.append(\"valid\")\n",
    "        except  (urllib.error.URLError, urllib.error.HTTPError):\n",
    "            url_status.append(\"invalid\")\n",
    "    return url_status"
   ]
  },
  {
   "cell_type": "code",
   "execution_count": null,
   "id": "4d90fe56",
   "metadata": {},
   "outputs": [],
   "source": [
    "url_status = validate_web_url(bbc)\n",
    "bbc.insert(0,'url_status', url_status)\n",
    "bbc['url_status'].value_counts()"
   ]
  },
  {
   "cell_type": "code",
   "execution_count": null,
   "id": "d642b5d2",
   "metadata": {},
   "outputs": [],
   "source": [
    "bbc.drop(bbc.loc[bbc['url_status']==\"invalid\"].index, inplace=True)"
   ]
  },
  {
   "cell_type": "markdown",
   "id": "d7b4f840",
   "metadata": {},
   "source": [
    "## ALJAZEERA NEWS DATASETS"
   ]
  },
  {
   "cell_type": "code",
   "execution_count": null,
   "id": "bc0f97b3",
   "metadata": {},
   "outputs": [],
   "source": [
    "aljazeera=pd.read_csv(\"C:/DEAN/Datasets/aljazeera.csv\")"
   ]
  },
  {
   "cell_type": "code",
   "execution_count": null,
   "id": "7a5e4fae",
   "metadata": {},
   "outputs": [],
   "source": [
    "aljazeera.head()"
   ]
  },
  {
   "cell_type": "code",
   "execution_count": null,
   "id": "125ca80d",
   "metadata": {},
   "outputs": [],
   "source": [
    "aljazeera.describe()"
   ]
  },
  {
   "cell_type": "code",
   "execution_count": null,
   "id": "cd12e954",
   "metadata": {},
   "outputs": [],
   "source": [
    "aljazeera.columns"
   ]
  },
  {
   "cell_type": "code",
   "execution_count": null,
   "id": "c54a1546",
   "metadata": {},
   "outputs": [],
   "source": [
    "# checking null values for each column\n",
    "aljazeera.isna().sum()"
   ]
  },
  {
   "cell_type": "code",
   "execution_count": null,
   "id": "b1e9130e",
   "metadata": {},
   "outputs": [],
   "source": [
    "# checking blank values for each column\n",
    "print('title = %d' % (aljazeera['title'].values == '').sum())\n",
    "print('url = %d' % (aljazeera['url'].values == '').sum())"
   ]
  },
  {
   "cell_type": "code",
   "execution_count": null,
   "id": "e8133170",
   "metadata": {},
   "outputs": [],
   "source": [
    "# checking tap values for each column\n",
    "print('title = %d' % (aljazeera['title'].values == ' ').sum())\n",
    "print('url = %d' % (aljazeera['url'].values == ' ').sum())"
   ]
  },
  {
   "cell_type": "code",
   "execution_count": null,
   "id": "becc4ebb",
   "metadata": {},
   "outputs": [],
   "source": [
    "# checking 'na' values for each column\n",
    "print('title = %d' % (aljazeera['title'].values == 'na').sum())\n",
    "print('url = %d' % (aljazeera['url'].values == 'na').sum())"
   ]
  },
  {
   "cell_type": "code",
   "execution_count": null,
   "id": "e453b17c",
   "metadata": {},
   "outputs": [],
   "source": [
    "# checking duplicate values for url column\n",
    "print('url = %d' % (aljazeera['url'].duplicated()).sum())"
   ]
  },
  {
   "cell_type": "code",
   "execution_count": null,
   "id": "5d5480b6",
   "metadata": {},
   "outputs": [],
   "source": [
    "# dropping rows with duplicate url values\n",
    "aljazeera = aljazeera.drop_duplicates(subset=['url'])"
   ]
  },
  {
   "cell_type": "code",
   "execution_count": null,
   "id": "9144dac0",
   "metadata": {},
   "outputs": [],
   "source": [
    "## Checking the URLS invalidity\n",
    "url_status = validate_web_url(aljazeera)\n",
    "aljazeera.insert(0,'url_status', url_status)\n",
    "aljazeera['url_status'].value_counts()"
   ]
  },
  {
   "cell_type": "code",
   "execution_count": null,
   "id": "d0c4fb7f",
   "metadata": {},
   "outputs": [],
   "source": [
    "aljazeera.drop(aljazeera.loc[aljazeera['url_status']==\"invalid\"].index, inplace=True)"
   ]
  },
  {
   "cell_type": "markdown",
   "id": "9ba5f21d",
   "metadata": {},
   "source": [
    "## CNBC NEWS DATASETS"
   ]
  },
  {
   "cell_type": "code",
   "execution_count": null,
   "id": "93f2ba21",
   "metadata": {},
   "outputs": [],
   "source": [
    "cnbc=pd.read_csv(\"C:/DEAN/Datasets/cnbc_news_datase.csv\")"
   ]
  },
  {
   "cell_type": "code",
   "execution_count": null,
   "id": "da6725cf",
   "metadata": {},
   "outputs": [],
   "source": [
    "cnbc.head()"
   ]
  },
  {
   "cell_type": "code",
   "execution_count": null,
   "id": "4333bc3d",
   "metadata": {},
   "outputs": [],
   "source": [
    "cnbc.describe()"
   ]
  },
  {
   "cell_type": "code",
   "execution_count": null,
   "id": "e7975f1c",
   "metadata": {},
   "outputs": [],
   "source": [
    "cnbc.columns"
   ]
  },
  {
   "cell_type": "code",
   "execution_count": null,
   "id": "cd7e0230",
   "metadata": {},
   "outputs": [],
   "source": [
    "# checking null values for each column\n",
    "cnbc.isna().sum()"
   ]
  },
  {
   "cell_type": "code",
   "execution_count": null,
   "id": "ae236556",
   "metadata": {},
   "outputs": [],
   "source": [
    "# checking blank values for each column\n",
    "print('title = %d' % (cnbc['title'].values == '').sum())\n",
    "print('url = %d' % (cnbc['url'].values == '').sum())"
   ]
  },
  {
   "cell_type": "code",
   "execution_count": null,
   "id": "fa4981bb",
   "metadata": {},
   "outputs": [],
   "source": [
    "# checking tap values for each column\n",
    "print('title = %d' % (cnbc['title'].values == ' ').sum())\n",
    "print('url = %d' % (cnbc['url'].values == ' ').sum())"
   ]
  },
  {
   "cell_type": "code",
   "execution_count": null,
   "id": "b7ac2cf8",
   "metadata": {},
   "outputs": [],
   "source": [
    "# checking 'na' values for each column\n",
    "print('title = %d' % (cnbc['title'].values == 'na').sum())\n",
    "print('url = %d' % (cnbc['url'].values == 'na').sum())"
   ]
  },
  {
   "cell_type": "code",
   "execution_count": null,
   "id": "d6e94f0d",
   "metadata": {},
   "outputs": [],
   "source": [
    "# checking duplicate values for url column\n",
    "print('url = %d' % (cnbc['url'].duplicated()).sum())"
   ]
  },
  {
   "cell_type": "code",
   "execution_count": null,
   "id": "713b2969",
   "metadata": {},
   "outputs": [],
   "source": [
    "## Checking the URLS invalidity\n",
    "url_status = validate_web_url(cnbc)\n",
    "cnbc.insert(0,'url_status', url_status)\n",
    "cnbc['url_status'].value_counts()"
   ]
  },
  {
   "cell_type": "code",
   "execution_count": null,
   "id": "7d360d59",
   "metadata": {},
   "outputs": [],
   "source": [
    "cnbc.drop(cnbc.loc[cnbc['url_status']==\"invalid\"].index, inplace=True)"
   ]
  },
  {
   "cell_type": "markdown",
   "id": "f5610acd",
   "metadata": {},
   "source": [
    "## CNN NEWS DATASET"
   ]
  },
  {
   "cell_type": "code",
   "execution_count": null,
   "id": "63b80ae9",
   "metadata": {},
   "outputs": [],
   "source": [
    "cnn=pd.read_csv(\"C:/DEAN/Datasets/cnn.csv\")"
   ]
  },
  {
   "cell_type": "code",
   "execution_count": null,
   "id": "cdae923e",
   "metadata": {},
   "outputs": [],
   "source": [
    "cnn.head()"
   ]
  },
  {
   "cell_type": "code",
   "execution_count": null,
   "id": "660dc020",
   "metadata": {},
   "outputs": [],
   "source": [
    "cnn.describe()"
   ]
  },
  {
   "cell_type": "code",
   "execution_count": null,
   "id": "3b647e36",
   "metadata": {},
   "outputs": [],
   "source": [
    "cnn.columns"
   ]
  },
  {
   "cell_type": "code",
   "execution_count": null,
   "id": "b136dc20",
   "metadata": {},
   "outputs": [],
   "source": [
    "# checking null values for each column\n",
    "cnn.isna().sum()"
   ]
  },
  {
   "cell_type": "code",
   "execution_count": null,
   "id": "b3e9d53c",
   "metadata": {},
   "outputs": [],
   "source": [
    "# checking blank values for each column\n",
    "print('title = %d' % (cnn['title'].values == '').sum())\n",
    "print('url = %d' % (cnn['url'].values == '').sum())\n"
   ]
  },
  {
   "cell_type": "code",
   "execution_count": null,
   "id": "67c8b11d",
   "metadata": {},
   "outputs": [],
   "source": [
    "# checking tap values for each column\n",
    "print('title = %d' % (cnn['title'].values == ' ').sum())\n",
    "print('url = %d' % (cnn['url'].values == ' ').sum())"
   ]
  },
  {
   "cell_type": "code",
   "execution_count": null,
   "id": "3477a7b0",
   "metadata": {},
   "outputs": [],
   "source": [
    "# checking 'na' values for each column\n",
    "print('title = %d' % (cnn['title'].values == 'na').sum())\n",
    "print('url = %d' % (cnn['url'].values == 'na').sum())"
   ]
  },
  {
   "cell_type": "code",
   "execution_count": null,
   "id": "ed646f32",
   "metadata": {},
   "outputs": [],
   "source": [
    "# checking duplicate values for url column\n",
    "print('url = %d' % (cnn['url'].duplicated()).sum())"
   ]
  },
  {
   "cell_type": "code",
   "execution_count": null,
   "id": "f735f4a4",
   "metadata": {},
   "outputs": [],
   "source": [
    "# dropping rows with duplicate url values\n",
    "cnn = cnn.drop_duplicates(subset=['url'])"
   ]
  },
  {
   "cell_type": "code",
   "execution_count": null,
   "id": "2b1a1524",
   "metadata": {},
   "outputs": [],
   "source": [
    "## Checking the URLS invalidity\n",
    "url_status = validate_web_url(cnn)\n",
    "cnn.insert(0,'url_status', url_status)\n",
    "cnn['url_status'].value_counts()"
   ]
  },
  {
   "cell_type": "code",
   "execution_count": null,
   "id": "57c7e878",
   "metadata": {},
   "outputs": [],
   "source": [
    "cnn.drop(cnn.loc[cnn['url_status']==\"invalid\"].index, inplace=True)"
   ]
  },
  {
   "cell_type": "markdown",
   "id": "fb945d7e",
   "metadata": {},
   "source": [
    "## JAPAN TIMES NEWS DATASET"
   ]
  },
  {
   "cell_type": "code",
   "execution_count": null,
   "id": "11a941b9",
   "metadata": {},
   "outputs": [],
   "source": [
    "japan_times=pd.read_csv(\"C:/DEAN/Datasets/japan_times.csv\")"
   ]
  },
  {
   "cell_type": "code",
   "execution_count": null,
   "id": "960a3c83",
   "metadata": {},
   "outputs": [],
   "source": [
    "japan_times.head()"
   ]
  },
  {
   "cell_type": "code",
   "execution_count": null,
   "id": "1b5e5af7",
   "metadata": {},
   "outputs": [],
   "source": [
    "japan_times.describe()"
   ]
  },
  {
   "cell_type": "code",
   "execution_count": null,
   "id": "0fe05bec",
   "metadata": {},
   "outputs": [],
   "source": [
    "japan_times.columns"
   ]
  },
  {
   "cell_type": "code",
   "execution_count": null,
   "id": "65ad840c",
   "metadata": {},
   "outputs": [],
   "source": [
    "# checking null values for each column\n",
    "japan_times.isna().sum()"
   ]
  },
  {
   "cell_type": "code",
   "execution_count": null,
   "id": "e7421344",
   "metadata": {},
   "outputs": [],
   "source": [
    "# checking blank values for each column\n",
    "print('title = %d' % (japan_times['headline'].values == '').sum())\n",
    "print('url = %d' % (japan_times['url'].values == '').sum())"
   ]
  },
  {
   "cell_type": "code",
   "execution_count": null,
   "id": "c8dca14b",
   "metadata": {},
   "outputs": [],
   "source": [
    "# checking tap values for each column\n",
    "print('title = %d' % (japan_times['headline'].values == ' ').sum())\n",
    "print('url = %d' % (japan_times['url'].values == ' ').sum())\n"
   ]
  },
  {
   "cell_type": "code",
   "execution_count": null,
   "id": "2770be8a",
   "metadata": {},
   "outputs": [],
   "source": [
    "# checking 'na' values for each column\n",
    "print('title = %d' % (japan_times['headline'].values == 'na').sum())\n",
    "print('url = %d' % (japan_times['url'].values == 'na').sum())"
   ]
  },
  {
   "cell_type": "code",
   "execution_count": null,
   "id": "2d043acc",
   "metadata": {},
   "outputs": [],
   "source": [
    "# checking duplicate values for url column\n",
    "print('url = %d' % (japan_times['url'].duplicated()).sum())"
   ]
  },
  {
   "cell_type": "code",
   "execution_count": null,
   "id": "019a3aaf",
   "metadata": {},
   "outputs": [],
   "source": [
    "## Checking the URLS invalidity\n",
    "url_status = validate_web_url(cnn)\n",
    "japan_times.insert(0,'url_status', url_status)\n",
    "japan_times['url_status'].value_counts()"
   ]
  },
  {
   "cell_type": "code",
   "execution_count": null,
   "id": "4c18e293",
   "metadata": {},
   "outputs": [],
   "source": [
    "japan_times.drop(japan_times.loc[japan_times['url_status']==\"invalid\"].index, inplace=True)"
   ]
  },
  {
   "cell_type": "code",
   "execution_count": null,
   "id": "7fcecf74",
   "metadata": {},
   "outputs": [],
   "source": []
  }
 ],
 "metadata": {
  "kernelspec": {
   "display_name": "Python 3",
   "language": "python",
   "name": "python3"
  },
  "language_info": {
   "codemirror_mode": {
    "name": "ipython",
    "version": 3
   },
   "file_extension": ".py",
   "mimetype": "text/x-python",
   "name": "python",
   "nbconvert_exporter": "python",
   "pygments_lexer": "ipython3",
   "version": "3.8.8"
  }
 },
 "nbformat": 4,
 "nbformat_minor": 5
}
