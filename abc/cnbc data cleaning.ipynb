{
 "cells": [
  {
   "cell_type": "code",
   "execution_count": 1,
   "id": "19d7e06c",
   "metadata": {},
   "outputs": [],
   "source": [
    "import pandas as pd"
   ]
  },
  {
   "cell_type": "code",
   "execution_count": 5,
   "id": "0388ee75",
   "metadata": {},
   "outputs": [],
   "source": [
    "cnbc=pd.read_csv(\"C:/DEAN/Datasets/cnbc_news_datase.csv\")\n"
   ]
  },
  {
   "cell_type": "code",
   "execution_count": 6,
   "id": "b7e73d5b",
   "metadata": {},
   "outputs": [
    {
     "data": {
      "text/html": [
       "<div>\n",
       "<style scoped>\n",
       "    .dataframe tbody tr th:only-of-type {\n",
       "        vertical-align: middle;\n",
       "    }\n",
       "\n",
       "    .dataframe tbody tr th {\n",
       "        vertical-align: top;\n",
       "    }\n",
       "\n",
       "    .dataframe thead th {\n",
       "        text-align: right;\n",
       "    }\n",
       "</style>\n",
       "<table border=\"1\" class=\"dataframe\">\n",
       "  <thead>\n",
       "    <tr style=\"text-align: right;\">\n",
       "      <th></th>\n",
       "      <th>title</th>\n",
       "      <th>url</th>\n",
       "      <th>published_at</th>\n",
       "      <th>author</th>\n",
       "      <th>publisher</th>\n",
       "      <th>short_description</th>\n",
       "      <th>keywords</th>\n",
       "      <th>header_image</th>\n",
       "      <th>raw_description</th>\n",
       "      <th>description</th>\n",
       "      <th>scraped_at</th>\n",
       "    </tr>\n",
       "  </thead>\n",
       "  <tbody>\n",
       "    <tr>\n",
       "      <th>0</th>\n",
       "      <td>Santoli’s Wednesday market notes: Could Septem...</td>\n",
       "      <td>https://www.cnbc.com/2021/09/29/santolis-wedne...</td>\n",
       "      <td>2021-09-29T17:09:39+0000</td>\n",
       "      <td>Michael Santoli</td>\n",
       "      <td>CNBC</td>\n",
       "      <td>This is the daily notebook of Mike Santoli, CN...</td>\n",
       "      <td>cnbc, Premium, Articles, Investment strategy, ...</td>\n",
       "      <td>https://image.cnbcfm.com/api/v1/image/10694960...</td>\n",
       "      <td>&lt;div class=\"group\"&gt;&lt;p&gt;&lt;em&gt;This is the daily no...</td>\n",
       "      <td>This is the daily notebook of Mike Santoli, CN...</td>\n",
       "      <td>2021-10-30 14:11:23.709372</td>\n",
       "    </tr>\n",
       "    <tr>\n",
       "      <th>1</th>\n",
       "      <td>My take on the early Brexit winners and losers</td>\n",
       "      <td>https://www.cnbc.com/2016/06/24/ian-bremmers-t...</td>\n",
       "      <td>2016-06-24T13:50:48-0400</td>\n",
       "      <td>NaN</td>\n",
       "      <td>CNBC</td>\n",
       "      <td>This commentary originally ran on Facebook. Bo...</td>\n",
       "      <td>Articles, Politics, Europe News, European Cent...</td>\n",
       "      <td>https://fm.cnbc.com/applications/cnbc.com/reso...</td>\n",
       "      <td>NaN</td>\n",
       "      <td>NaN</td>\n",
       "      <td>2021-10-30 14:11:23.820139</td>\n",
       "    </tr>\n",
       "    <tr>\n",
       "      <th>2</th>\n",
       "      <td>Europe&amp;#039;s recovery depends on Renzi&amp;#039;s...</td>\n",
       "      <td>https://www.cnbc.com/2014/03/25/europes-recove...</td>\n",
       "      <td>2014-03-25T13:29:45-0400</td>\n",
       "      <td>NaN</td>\n",
       "      <td>CNBC</td>\n",
       "      <td>In spring, ambitious reforms began in Italy. U...</td>\n",
       "      <td>Articles, Business News, Economy, Europe Econo...</td>\n",
       "      <td>https://fm.cnbc.com/applications/cnbc.com/reso...</td>\n",
       "      <td>NaN</td>\n",
       "      <td>NaN</td>\n",
       "      <td>2021-10-30 14:11:23.854710</td>\n",
       "    </tr>\n",
       "    <tr>\n",
       "      <th>3</th>\n",
       "      <td>US Moves Closer to Becoming A Major Shareholde...</td>\n",
       "      <td>https://www.cnbc.com/2009/04/22/us-moves-close...</td>\n",
       "      <td>2009-04-22T19:49:03+0000</td>\n",
       "      <td>Michelle Caruso-Cabrera</td>\n",
       "      <td>CNBC</td>\n",
       "      <td>The US government is increasingly likely to co...</td>\n",
       "      <td>cnbc, Articles, General Motors Co, Business Ne...</td>\n",
       "      <td>https://image.cnbcfm.com/api/v1/image/24947979...</td>\n",
       "      <td>&lt;div class=\"group\"&gt;&lt;p&gt;The US government is inc...</td>\n",
       "      <td>The US government is increasingly likely to co...</td>\n",
       "      <td>2021-10-30 14:11:24.261143</td>\n",
       "    </tr>\n",
       "    <tr>\n",
       "      <th>4</th>\n",
       "      <td>Trump: 'Mission accomplished' on 'perfectly ex...</td>\n",
       "      <td>https://www.cnbc.com/2018/04/14/trump-mission-...</td>\n",
       "      <td>2018-04-14T14:59:04+0000</td>\n",
       "      <td>Javier E. David</td>\n",
       "      <td>CNBC</td>\n",
       "      <td>NaN</td>\n",
       "      <td>cnbc, Articles, George W. Bush, Vladimir Putin...</td>\n",
       "      <td>https://image.cnbcfm.com/api/v1/image/10513177...</td>\n",
       "      <td>&lt;div class=\"group\"&gt;&lt;/div&gt;,&lt;div class=\"group\"&gt;&lt;...</td>\n",
       "      <td>President Donald Trump hailed the U.S.-led int...</td>\n",
       "      <td>2021-10-30 14:11:24.489490</td>\n",
       "    </tr>\n",
       "  </tbody>\n",
       "</table>\n",
       "</div>"
      ],
      "text/plain": [
       "                                               title  \\\n",
       "0  Santoli’s Wednesday market notes: Could Septem...   \n",
       "1     My take on the early Brexit winners and losers   \n",
       "2  Europe&#039;s recovery depends on Renzi&#039;s...   \n",
       "3  US Moves Closer to Becoming A Major Shareholde...   \n",
       "4  Trump: 'Mission accomplished' on 'perfectly ex...   \n",
       "\n",
       "                                                 url  \\\n",
       "0  https://www.cnbc.com/2021/09/29/santolis-wedne...   \n",
       "1  https://www.cnbc.com/2016/06/24/ian-bremmers-t...   \n",
       "2  https://www.cnbc.com/2014/03/25/europes-recove...   \n",
       "3  https://www.cnbc.com/2009/04/22/us-moves-close...   \n",
       "4  https://www.cnbc.com/2018/04/14/trump-mission-...   \n",
       "\n",
       "               published_at                   author publisher  \\\n",
       "0  2021-09-29T17:09:39+0000          Michael Santoli      CNBC   \n",
       "1  2016-06-24T13:50:48-0400                      NaN      CNBC   \n",
       "2  2014-03-25T13:29:45-0400                      NaN      CNBC   \n",
       "3  2009-04-22T19:49:03+0000  Michelle Caruso-Cabrera      CNBC   \n",
       "4  2018-04-14T14:59:04+0000          Javier E. David      CNBC   \n",
       "\n",
       "                                   short_description  \\\n",
       "0  This is the daily notebook of Mike Santoli, CN...   \n",
       "1  This commentary originally ran on Facebook. Bo...   \n",
       "2  In spring, ambitious reforms began in Italy. U...   \n",
       "3  The US government is increasingly likely to co...   \n",
       "4                                                NaN   \n",
       "\n",
       "                                            keywords  \\\n",
       "0  cnbc, Premium, Articles, Investment strategy, ...   \n",
       "1  Articles, Politics, Europe News, European Cent...   \n",
       "2  Articles, Business News, Economy, Europe Econo...   \n",
       "3  cnbc, Articles, General Motors Co, Business Ne...   \n",
       "4  cnbc, Articles, George W. Bush, Vladimir Putin...   \n",
       "\n",
       "                                        header_image  \\\n",
       "0  https://image.cnbcfm.com/api/v1/image/10694960...   \n",
       "1  https://fm.cnbc.com/applications/cnbc.com/reso...   \n",
       "2  https://fm.cnbc.com/applications/cnbc.com/reso...   \n",
       "3  https://image.cnbcfm.com/api/v1/image/24947979...   \n",
       "4  https://image.cnbcfm.com/api/v1/image/10513177...   \n",
       "\n",
       "                                     raw_description  \\\n",
       "0  <div class=\"group\"><p><em>This is the daily no...   \n",
       "1                                                NaN   \n",
       "2                                                NaN   \n",
       "3  <div class=\"group\"><p>The US government is inc...   \n",
       "4  <div class=\"group\"></div>,<div class=\"group\"><...   \n",
       "\n",
       "                                         description  \\\n",
       "0  This is the daily notebook of Mike Santoli, CN...   \n",
       "1                                                NaN   \n",
       "2                                                NaN   \n",
       "3  The US government is increasingly likely to co...   \n",
       "4  President Donald Trump hailed the U.S.-led int...   \n",
       "\n",
       "                   scraped_at  \n",
       "0  2021-10-30 14:11:23.709372  \n",
       "1  2021-10-30 14:11:23.820139  \n",
       "2  2021-10-30 14:11:23.854710  \n",
       "3  2021-10-30 14:11:24.261143  \n",
       "4  2021-10-30 14:11:24.489490  "
      ]
     },
     "execution_count": 6,
     "metadata": {},
     "output_type": "execute_result"
    }
   ],
   "source": [
    "cnbc.head()\n"
   ]
  },
  {
   "cell_type": "code",
   "execution_count": 7,
   "id": "4683c374",
   "metadata": {},
   "outputs": [
    {
     "data": {
      "text/html": [
       "<div>\n",
       "<style scoped>\n",
       "    .dataframe tbody tr th:only-of-type {\n",
       "        vertical-align: middle;\n",
       "    }\n",
       "\n",
       "    .dataframe tbody tr th {\n",
       "        vertical-align: top;\n",
       "    }\n",
       "\n",
       "    .dataframe thead th {\n",
       "        text-align: right;\n",
       "    }\n",
       "</style>\n",
       "<table border=\"1\" class=\"dataframe\">\n",
       "  <thead>\n",
       "    <tr style=\"text-align: right;\">\n",
       "      <th></th>\n",
       "      <th>title</th>\n",
       "      <th>url</th>\n",
       "      <th>published_at</th>\n",
       "      <th>author</th>\n",
       "      <th>publisher</th>\n",
       "      <th>short_description</th>\n",
       "      <th>keywords</th>\n",
       "      <th>header_image</th>\n",
       "      <th>raw_description</th>\n",
       "      <th>description</th>\n",
       "      <th>scraped_at</th>\n",
       "    </tr>\n",
       "  </thead>\n",
       "  <tbody>\n",
       "    <tr>\n",
       "      <th>count</th>\n",
       "      <td>625</td>\n",
       "      <td>625</td>\n",
       "      <td>625</td>\n",
       "      <td>397</td>\n",
       "      <td>625</td>\n",
       "      <td>609</td>\n",
       "      <td>625</td>\n",
       "      <td>625</td>\n",
       "      <td>594</td>\n",
       "      <td>593</td>\n",
       "      <td>625</td>\n",
       "    </tr>\n",
       "    <tr>\n",
       "      <th>unique</th>\n",
       "      <td>625</td>\n",
       "      <td>625</td>\n",
       "      <td>625</td>\n",
       "      <td>201</td>\n",
       "      <td>1</td>\n",
       "      <td>609</td>\n",
       "      <td>581</td>\n",
       "      <td>479</td>\n",
       "      <td>594</td>\n",
       "      <td>593</td>\n",
       "      <td>625</td>\n",
       "    </tr>\n",
       "    <tr>\n",
       "      <th>top</th>\n",
       "      <td>CSI Mad Money: Cramer's 5 stocks left for dead</td>\n",
       "      <td>https://www.cnbc.com/2017/11/06/more-deregulat...</td>\n",
       "      <td>2012-05-17T17:04:05+0000</td>\n",
       "      <td>Lee Brodie</td>\n",
       "      <td>CNBC</td>\n",
       "      <td>The U.K. has emerged from the Covid-19 pandemi...</td>\n",
       "      <td>cnbc, Articles, CNBC TV, Fast Money, source:ta...</td>\n",
       "      <td>https://sc.cnbcfm.com/applications/cnbc.com/st...</td>\n",
       "      <td>&lt;div class=\"group\"&gt;&lt;p&gt;&lt;a href=\"https://www.cnb...</td>\n",
       "      <td>Elon Musk testified under oath he's not sure k...</td>\n",
       "      <td>2021-10-30 14:12:17.477170</td>\n",
       "    </tr>\n",
       "    <tr>\n",
       "      <th>freq</th>\n",
       "      <td>1</td>\n",
       "      <td>1</td>\n",
       "      <td>1</td>\n",
       "      <td>24</td>\n",
       "      <td>625</td>\n",
       "      <td>1</td>\n",
       "      <td>10</td>\n",
       "      <td>141</td>\n",
       "      <td>1</td>\n",
       "      <td>1</td>\n",
       "      <td>1</td>\n",
       "    </tr>\n",
       "  </tbody>\n",
       "</table>\n",
       "</div>"
      ],
      "text/plain": [
       "                                                 title  \\\n",
       "count                                              625   \n",
       "unique                                             625   \n",
       "top     CSI Mad Money: Cramer's 5 stocks left for dead   \n",
       "freq                                                 1   \n",
       "\n",
       "                                                      url  \\\n",
       "count                                                 625   \n",
       "unique                                                625   \n",
       "top     https://www.cnbc.com/2017/11/06/more-deregulat...   \n",
       "freq                                                    1   \n",
       "\n",
       "                    published_at      author publisher  \\\n",
       "count                        625         397       625   \n",
       "unique                       625         201         1   \n",
       "top     2012-05-17T17:04:05+0000  Lee Brodie      CNBC   \n",
       "freq                           1          24       625   \n",
       "\n",
       "                                        short_description  \\\n",
       "count                                                 609   \n",
       "unique                                                609   \n",
       "top     The U.K. has emerged from the Covid-19 pandemi...   \n",
       "freq                                                    1   \n",
       "\n",
       "                                                 keywords  \\\n",
       "count                                                 625   \n",
       "unique                                                581   \n",
       "top     cnbc, Articles, CNBC TV, Fast Money, source:ta...   \n",
       "freq                                                   10   \n",
       "\n",
       "                                             header_image  \\\n",
       "count                                                 625   \n",
       "unique                                                479   \n",
       "top     https://sc.cnbcfm.com/applications/cnbc.com/st...   \n",
       "freq                                                  141   \n",
       "\n",
       "                                          raw_description  \\\n",
       "count                                                 594   \n",
       "unique                                                594   \n",
       "top     <div class=\"group\"><p><a href=\"https://www.cnb...   \n",
       "freq                                                    1   \n",
       "\n",
       "                                              description  \\\n",
       "count                                                 593   \n",
       "unique                                                593   \n",
       "top     Elon Musk testified under oath he's not sure k...   \n",
       "freq                                                    1   \n",
       "\n",
       "                        scraped_at  \n",
       "count                          625  \n",
       "unique                         625  \n",
       "top     2021-10-30 14:12:17.477170  \n",
       "freq                             1  "
      ]
     },
     "execution_count": 7,
     "metadata": {},
     "output_type": "execute_result"
    }
   ],
   "source": [
    "cnbc.describe()"
   ]
  },
  {
   "cell_type": "code",
   "execution_count": 11,
   "id": "4544ebe8",
   "metadata": {},
   "outputs": [
    {
     "data": {
      "text/plain": [
       "Index(['title', 'url', 'published_at', 'author', 'publisher',\n",
       "       'short_description', 'keywords', 'header_image', 'raw_description',\n",
       "       'description', 'scraped_at'],\n",
       "      dtype='object')"
      ]
     },
     "execution_count": 11,
     "metadata": {},
     "output_type": "execute_result"
    }
   ],
   "source": [
    "cnbc.columns"
   ]
  },
  {
   "cell_type": "code",
   "execution_count": 10,
   "id": "2c5c61fb",
   "metadata": {},
   "outputs": [
    {
     "data": {
      "text/plain": [
       "title                  0\n",
       "url                    0\n",
       "published_at           0\n",
       "author               228\n",
       "publisher              0\n",
       "short_description     16\n",
       "keywords               0\n",
       "header_image           0\n",
       "raw_description       31\n",
       "description           32\n",
       "scraped_at             0\n",
       "dtype: int64"
      ]
     },
     "execution_count": 10,
     "metadata": {},
     "output_type": "execute_result"
    }
   ],
   "source": [
    "# checking null values for each column\n",
    "cnbc.isna().sum()"
   ]
  },
  {
   "cell_type": "code",
   "execution_count": 16,
   "id": "fedda99b",
   "metadata": {},
   "outputs": [
    {
     "name": "stdout",
     "output_type": "stream",
     "text": [
      "title = 0\n",
      "url = 0\n"
     ]
    }
   ],
   "source": [
    "# checking blank values for each column\n",
    "print('title = %d' % (cnbc['title'].values == '').sum())\n",
    "print('url = %d' % (cnbc['url'].values == '').sum())\n"
   ]
  },
  {
   "cell_type": "code",
   "execution_count": 12,
   "id": "fc87e7ce",
   "metadata": {},
   "outputs": [
    {
     "name": "stdout",
     "output_type": "stream",
     "text": [
      "title = 0\n",
      "url = 0\n"
     ]
    }
   ],
   "source": [
    "# checking tap values for each column\n",
    "print('title = %d' % (cnbc['title'].values == ' ').sum())\n",
    "print('url = %d' % (cnbc['url'].values == ' ').sum())\n"
   ]
  },
  {
   "cell_type": "code",
   "execution_count": 13,
   "id": "cd824f0a",
   "metadata": {},
   "outputs": [
    {
     "name": "stdout",
     "output_type": "stream",
     "text": [
      "title = 0\n",
      "url = 0\n"
     ]
    }
   ],
   "source": [
    "# checking 'na' values for each column\n",
    "print('title = %d' % (cnbc['title'].values == 'na').sum())\n",
    "print('url = %d' % (cnbc['url'].values == 'na').sum())\n"
   ]
  },
  {
   "cell_type": "code",
   "execution_count": 14,
   "id": "1f147565",
   "metadata": {},
   "outputs": [
    {
     "name": "stdout",
     "output_type": "stream",
     "text": [
      "url = 0\n"
     ]
    }
   ],
   "source": [
    "# checking duplicate values for url column\n",
    "print('url = %d' % (cnbc['url'].duplicated()).sum())"
   ]
  },
  {
   "cell_type": "code",
   "execution_count": 15,
   "id": "3aa9c0d2",
   "metadata": {},
   "outputs": [
    {
     "ename": "SyntaxError",
     "evalue": "unexpected EOF while parsing (<ipython-input-15-36df63a0bb68>, line 11)",
     "output_type": "error",
     "traceback": [
      "\u001b[1;36m  File \u001b[1;32m\"<ipython-input-15-36df63a0bb68>\"\u001b[1;36m, line \u001b[1;32m11\u001b[0m\n\u001b[1;33m    cnbc.drop(idx, inplace=True\u001b[0m\n\u001b[1;37m                               ^\u001b[0m\n\u001b[1;31mSyntaxError\u001b[0m\u001b[1;31m:\u001b[0m unexpected EOF while parsing\n"
     ]
    }
   ],
   "source": [
    "import requests\n",
    "# removing invalid urls\n",
    "for column in aljazeera.columns:\n",
    "    if column =='url':\n",
    "        for idx in cnbc.index:\n",
    "            check = cnbc[column][idx]\n",
    "            response = cnbc.get(check)\n",
    "            if response.status_code ==200:\n",
    "                pass\n",
    "            else:\n",
    "                cnbc.drop(idx, inplace=True)"
   ]
  },
  {
   "cell_type": "code",
   "execution_count": null,
   "id": "7a632779",
   "metadata": {},
   "outputs": [],
   "source": []
  },
  {
   "cell_type": "code",
   "execution_count": null,
   "id": "efb9d039",
   "metadata": {},
   "outputs": [],
   "source": []
  }
 ],
 "metadata": {
  "kernelspec": {
   "display_name": "Python 3",
   "language": "python",
   "name": "python3"
  },
  "language_info": {
   "codemirror_mode": {
    "name": "ipython",
    "version": 3
   },
   "file_extension": ".py",
   "mimetype": "text/x-python",
   "name": "python",
   "nbconvert_exporter": "python",
   "pygments_lexer": "ipython3",
   "version": "3.8.8"
  }
 },
 "nbformat": 4,
 "nbformat_minor": 5
}
